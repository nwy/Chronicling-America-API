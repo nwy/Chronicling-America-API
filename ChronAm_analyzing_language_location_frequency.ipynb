{
 "cells": [
  {
   "cell_type": "markdown",
   "metadata": {
    "id": "Li56LTTy-R7d"
   },
   "source": [
    "# Using Chronicling America to analyze word frequency and geographic usage\n",
    "\n",
    "\n",
    "Feel free to download this notebook and put in your own search queries.\n",
    "\n",
    "---\n",
    "\n",
    "**Notebook Example:**\n",
    "\n",
    "> We will look at the term \"bohunk.\" According to the [Race and Ethnicity Keyword Thesaurus for Chronicling America](https://edsitement.neh.gov/media-resources/race-and-ethnicity-keyword-thesaurus-chronicling-america), a bohunk is \"A derogatory term for an Eastern European immigrant suggesting that they were strong but feebleminded. Primarily used late 1800s-late 1920s. Considered a slur.\"\n",
    "\n",
    "Specifically, we want to utilize the API tool to look at the word usage in relationship to time and location:\n",
    "1. Time: When was the term published in newspapers?\n",
    "2. Location: Where was the term most commonly used based on a newspaper's publication location?\n"
   ]
  },
  {
   "cell_type": "markdown",
   "metadata": {
    "id": "b2g2vYF5Dl8D"
   },
   "source": [
    "## Importing Modules [Required]\n",
    "The following imports are required for the scripts to run properly:\n",
    "\n",
    "---\n",
    "1. Run the following code below.\n",
    " * It will import all the modules you need for this notebook.\n",
    " * Do not change anything."
   ]
  },
  {
   "cell_type": "code",
   "execution_count": 1,
   "metadata": {
    "id": "cmWQhXNdLc8j"
   },
   "outputs": [],
   "source": [
    "import time\n",
    "import re\n",
    "import json\n",
    "from urllib.request import urlopen\n",
    "import requests\n",
    "import pandas as pd\n",
    "import matplotlib.pyplot as plt\n",
    "import plotly.express as px\n",
    "import pprint"
   ]
  },
  {
   "cell_type": "markdown",
   "metadata": {
    "id": "IryW_02CDuA2"
   },
   "source": [
    "# Perform a Query\n"
   ]
  },
  {
   "cell_type": "code",
   "execution_count": 2,
   "metadata": {
    "id": "JBKT2O-5Dtom"
   },
   "outputs": [],
   "source": [
    "# Perform Query - Paste your API Search Query URL into the searchURL\n",
    "searchURL = 'https://www.loc.gov/collections/chronicling-america/?dl=page&ops=AND&qs=bohunk&searchType=advanced&fo=json'\n"
   ]
  },
  {
   "cell_type": "markdown",
   "metadata": {
    "id": "c-eM5fx6EO3z"
   },
   "source": [
    "## Run Function\n",
    "Functions and limits define what will be included and excluded in the search for downloads.\n",
    "- The code below will only download the newspaper pages from your search result. It will not download the whole newspaper issue.\n",
    "\n",
    "---\n",
    "1. Run the code below.\n",
    " * Do not change anything.\n",
    "2. When the script is complete, it will tell you how many Newspaper Pages it found from your search.\n",
    "3. If you are satisfied with the amount of results, proceed to the next section to run the download.\n",
    "4. If you are not satisfied with the amount of results, go back and redo the API Search Query."
   ]
  },
  {
   "cell_type": "code",
   "execution_count": 3,
   "metadata": {
    "colab": {
     "base_uri": "https://localhost:8080/"
    },
    "executionInfo": {
     "elapsed": 151236,
     "status": "ok",
     "timestamp": 1712098815981,
     "user": {
      "displayName": "Mike Saelee",
      "userId": "09356275809855701196"
     },
     "user_tz": 240
    },
    "id": "EH_zFjdHEPVk",
    "outputId": "b280594a-24bb-40b0-9267-35ac7d3168a6"
   },
   "outputs": [
    {
     "name": "stdout",
     "output_type": "stream",
     "text": [
      "\n",
      "Success. Your API Search Query found 562 related newspaper pages.\n"
     ]
    }
   ],
   "source": [
    "def get_item_ids(url, items=[], conditional='True'):\n",
    "    # Check that the query URL is not an item or resource link.\n",
    "    exclude = [\"loc.gov/item\",\"loc.gov/resource\"]\n",
    "    if any(string in url for string in exclude):\n",
    "        raise NameError('Your URL points directly to an item or '\n",
    "                        'resource page (you can tell because \"item\" '\n",
    "                        'or \"resource\" is in the URL). Please use '\n",
    "                        'a search URL instead. For example, instead '\n",
    "                        'of \\\"https://www.loc.gov/item/2009581123/\\\", '\n",
    "                        'try \\\"https://www.loc.gov/maps/?q=2009581123\\\". ')\n",
    "\n",
    "    # request pages of 100 results at a time\n",
    "    params = {\"fo\": \"json\", \"c\": 100, \"at\": \"results,pagination\"}\n",
    "    call = requests.get(url, params=params)\n",
    "    # Check that the API request was successful\n",
    "    if (call.status_code==200) & ('json' in call.headers.get('content-type')):\n",
    "        data = call.json()\n",
    "        results = data['results']\n",
    "        for result in results:\n",
    "            # Filter out anything that's a colletion or web page\n",
    "            filter_out = (\"collection\" in result.get(\"original_format\")) \\\n",
    "                    or (\"web page\" in result.get(\"original_format\")) \\\n",
    "                    or (eval(conditional)==False)\n",
    "            if not filter_out:\n",
    "                # Get the link to the item record\n",
    "                if result.get(\"id\"):\n",
    "                    item = result.get(\"id\")\n",
    "                    # Filter out links to Catalog or other platforms\n",
    "                    if item.startswith(\"http://www.loc.gov/resource\"):\n",
    "                      resource = item  # Assign item to resource\n",
    "                      items.append(resource)\n",
    "                    if item.startswith(\"http://www.loc.gov/item\"):\n",
    "                        items.append(item)\n",
    "        # Repeat the loop on the next page, unless we're on the last page.\n",
    "        if data[\"pagination\"][\"next\"] is not None:\n",
    "            next_url = data[\"pagination\"][\"next\"]\n",
    "            get_item_ids(next_url, items, conditional)\n",
    "\n",
    "        return items\n",
    "    else:\n",
    "            print('There was a problem. Try running the cell again, or check your searchURL.')\n",
    "\n",
    "# Generate a list of records found from performing a query and save these Item IDs. (Create ids_list based on items found in the searchURL result)\n",
    "ids_list = get_item_ids(searchURL, items=[])\n",
    "\n",
    "# Add 'fo=json' to the end of each row in ids_list (All individual ids from from the ids_list are now listed in JSON format in new_ids)\n",
    "ids_list_json = []\n",
    "for id in ids_list:\n",
    "  if not id.endswith('&fo=json'):\n",
    "    id += '&fo=json'\n",
    "  ids_list_json.append(id)\n",
    "ids = ids_list_json\n",
    "\n",
    "print('\\nSuccess. Your API Search Query found '+str(len(ids_list_json))+' related newspaper pages.')"
   ]
  },
  {
   "cell_type": "markdown",
   "metadata": {
    "id": "E-pSbCJNEri4"
   },
   "source": [
    "## Get Basic Metadata/Information for your Query and Store It in a List\n",
    "\n",
    "If you need metadata/information for your downloads, run the script below\n",
    "- Some things can be changed, but you will have to look at the JSON file for the correct name.\n",
    "\n",
    "---\n",
    "1. Run the code below.\n",
    "2. When the script is complete, a preview will be shown on the bottom."
   ]
  },
  {
   "cell_type": "code",
   "execution_count": 4,
   "metadata": {
    "colab": {
     "base_uri": "https://localhost:8080/"
    },
    "executionInfo": {
     "elapsed": 2249965,
     "status": "ok",
     "timestamp": 1712101074898,
     "user": {
      "displayName": "Mike Saelee",
      "userId": "09356275809855701196"
     },
     "user_tz": 240
    },
    "id": "ZkXEpC0TE7Ep",
    "outputId": "51cb7a0d-6bb7-4343-fb84-3b1fb5012590"
   },
   "outputs": [
    {
     "name": "stdout",
     "output_type": "stream",
     "text": [
      "\n",
      "Ready to proceed to the next step!\n"
     ]
    }
   ],
   "source": [
    "# Create a list of dictionaries to store the item metadata\n",
    "item_metadata_list = []\n",
    "\n",
    "# Iterate over the list of item IDs\n",
    "for item_id in ids_list_json:\n",
    "  item_response = requests.get(item_id)\n",
    "\n",
    "  # Check if the API call was successful and Parse the JSON response\n",
    "  if item_response.status_code == 200:\n",
    "    # Iterate over the ids_list_json list and extract the relevant metadata from each dictionary.\n",
    "    item_data = item_response.json()\n",
    "    if 'location_city' not in item_data['item']:\n",
    "      continue\n",
    "\n",
    "    # Extract the relevant item metadata\n",
    "    Newspaper_Title = item_data['item']['newspaper_title']\n",
    "    Issue_Date = item_data['item']['date']\n",
    "    Page = item_data['pagination']['current']\n",
    "    State = item_data['item']['location_state']\n",
    "    City = item_data['item']['location_city']\n",
    "    LCCN = item_data['item']['number_lccn']\n",
    "    Contributor = item_data['item']['contributor_names']\n",
    "    Batch = item_data['item']['batch']\n",
    "    pdf = item_data['resource']['pdf']\n",
    "\n",
    "    # Add the item metadata to the list\n",
    "    item_metadata_list.append({\n",
    "        'Newspaper Title': Newspaper_Title,\n",
    "        'Issue Date': Issue_Date,\n",
    "        'Page Number': Page,\n",
    "        'LCCN': LCCN,\n",
    "        'City': City,\n",
    "        'State': State,\n",
    "        'Contributor': Contributor,\n",
    "        'Batch': Batch,\n",
    "        'PDF Link': pdf,\n",
    "  })\n",
    "\n",
    "# Change date format to MM-DD-YYYY\n",
    "for item in item_metadata_list:\n",
    "  item['Issue Date'] = pd.to_datetime(item['Issue Date']).strftime('%m-%d-%Y')\n",
    "\n",
    "# Create a Pandas DataFrame from the list of dictionaries\n",
    "df = pd.DataFrame(item_metadata_list)\n",
    "\n",
    "print('\\nReady to proceed to the next step!')"
   ]
  },
  {
   "cell_type": "markdown",
   "metadata": {
    "id": "b-jd7tu-EZoh"
   },
   "source": [
    "# Export Metadata of Search Results to a CSV File\n",
    "\n",
    "---\n",
    "1. Edit your save location and the filename below.\n",
    "2. Then run the code."
   ]
  },
  {
   "cell_type": "code",
   "execution_count": 7,
   "metadata": {
    "id": "rTM9CWAJXsKC"
   },
   "outputs": [],
   "source": [
    "# Add your Local saveTo Location\n",
    "saveTo = 'C:/Users/msae/Downloads/'\n",
    "\n",
    "# Set File Name. Make sure to rename the file so it doesn't overwrite previous!\n",
    "filename = 'MetadataFileName'"
   ]
  },
  {
   "cell_type": "markdown",
   "metadata": {
    "id": "-hoVtEK6XxKT"
   },
   "source": [
    "Press Run to save your file and print out a dataframe preview example below:\n",
    "\n"
   ]
  },
  {
   "cell_type": "code",
   "execution_count": 18,
   "metadata": {
    "colab": {
     "base_uri": "https://localhost:8080/",
     "height": 476
    },
    "executionInfo": {
     "elapsed": 268,
     "status": "ok",
     "timestamp": 1712101512445,
     "user": {
      "displayName": "Mike Saelee",
      "userId": "09356275809855701196"
     },
     "user_tz": 240
    },
    "id": "euHIY5dYDuOs",
    "outputId": "07b60959-000a-45e0-c885-8883c13c3da6"
   },
   "outputs": [
    {
     "name": "stdout",
     "output_type": "stream",
     "text": [
      "\n",
      "Success! Please check your saveTo location to see the saved csv file. See Preview Below:\n",
      "\n"
     ]
    },
    {
     "data": {
      "text/html": [
       "<div>\n",
       "<style scoped>\n",
       "    .dataframe tbody tr th:only-of-type {\n",
       "        vertical-align: middle;\n",
       "    }\n",
       "\n",
       "    .dataframe tbody tr th {\n",
       "        vertical-align: top;\n",
       "    }\n",
       "\n",
       "    .dataframe thead th {\n",
       "        text-align: right;\n",
       "    }\n",
       "</style>\n",
       "<table border=\"1\" class=\"dataframe\">\n",
       "  <thead>\n",
       "    <tr style=\"text-align: right;\">\n",
       "      <th></th>\n",
       "      <th>Newspaper Title</th>\n",
       "      <th>Issue Date</th>\n",
       "      <th>Page Number</th>\n",
       "      <th>LCCN</th>\n",
       "      <th>City</th>\n",
       "      <th>State</th>\n",
       "      <th>Contributor</th>\n",
       "      <th>Batch</th>\n",
       "      <th>PDF Link</th>\n",
       "    </tr>\n",
       "  </thead>\n",
       "  <tbody>\n",
       "    <tr>\n",
       "      <th>0</th>\n",
       "      <td>[Deutscher herold]</td>\n",
       "      <td>12-18-1913</td>\n",
       "      <td>7</td>\n",
       "      <td>[sn98069091]</td>\n",
       "      <td>[sioux falls]</td>\n",
       "      <td>[south dakota]</td>\n",
       "      <td>[South Dakota State Historical Society – State...</td>\n",
       "      <td>[sdhi_bermuda_ver01]</td>\n",
       "      <td>https://tile.loc.gov/storage-services/service/...</td>\n",
       "    </tr>\n",
       "    <tr>\n",
       "      <th>1</th>\n",
       "      <td>[The daily Nome industrial worker.]</td>\n",
       "      <td>04-18-1916</td>\n",
       "      <td>2</td>\n",
       "      <td>[sn96094905]</td>\n",
       "      <td>[nome]</td>\n",
       "      <td>[alaska]</td>\n",
       "      <td>[Alaska State Library Historical Collections]</td>\n",
       "      <td>[ak_dolphin_ver01]</td>\n",
       "      <td>https://tile.loc.gov/storage-services/service/...</td>\n",
       "    </tr>\n",
       "    <tr>\n",
       "      <th>2</th>\n",
       "      <td>[The Washington times.]</td>\n",
       "      <td>09-30-1911</td>\n",
       "      <td>15</td>\n",
       "      <td>[sn84026749]</td>\n",
       "      <td>[washington]</td>\n",
       "      <td>[district of columbia]</td>\n",
       "      <td>[Library of Congress, Washington, DC]</td>\n",
       "      <td>[dlc_hawaiian_ver01]</td>\n",
       "      <td>https://tile.loc.gov/storage-services/service/...</td>\n",
       "    </tr>\n",
       "    <tr>\n",
       "      <th>3</th>\n",
       "      <td>[The Princeton union]</td>\n",
       "      <td>02-10-1916</td>\n",
       "      <td>7</td>\n",
       "      <td>[sn83016758]</td>\n",
       "      <td>[princeton]</td>\n",
       "      <td>[minnesota]</td>\n",
       "      <td>[Minnesota Historical Society; Saint Paul, MN]</td>\n",
       "      <td>[mnhi_iron_ver01]</td>\n",
       "      <td>https://tile.loc.gov/storage-services/service/...</td>\n",
       "    </tr>\n",
       "    <tr>\n",
       "      <th>4</th>\n",
       "      <td>[Yerington times.]</td>\n",
       "      <td>07-18-1914</td>\n",
       "      <td>1</td>\n",
       "      <td>[sn86076216]</td>\n",
       "      <td>[yerington]</td>\n",
       "      <td>[nevada]</td>\n",
       "      <td>[University of Nevada Las Vegas University Lib...</td>\n",
       "      <td>[nvln_arrowhead_ver01]</td>\n",
       "      <td>https://tile.loc.gov/storage-services/service/...</td>\n",
       "    </tr>\n",
       "    <tr>\n",
       "      <th>...</th>\n",
       "      <td>...</td>\n",
       "      <td>...</td>\n",
       "      <td>...</td>\n",
       "      <td>...</td>\n",
       "      <td>...</td>\n",
       "      <td>...</td>\n",
       "      <td>...</td>\n",
       "      <td>...</td>\n",
       "      <td>...</td>\n",
       "    </tr>\n",
       "    <tr>\n",
       "      <th>554</th>\n",
       "      <td>[Omaha daily bee]</td>\n",
       "      <td>08-21-1899</td>\n",
       "      <td>2</td>\n",
       "      <td>[sn99021999]</td>\n",
       "      <td>[omaha]</td>\n",
       "      <td>[nebraska]</td>\n",
       "      <td>[University of Nebraska-Lincoln Libraries, Lin...</td>\n",
       "      <td>[nbu_emerson_ver01]</td>\n",
       "      <td>https://tile.loc.gov/storage-services/service/...</td>\n",
       "    </tr>\n",
       "    <tr>\n",
       "      <th>555</th>\n",
       "      <td>[Perth Amboy evening news]</td>\n",
       "      <td>11-12-1921</td>\n",
       "      <td>3</td>\n",
       "      <td>[sn85035720]</td>\n",
       "      <td>[perth amboy]</td>\n",
       "      <td>[new jersey]</td>\n",
       "      <td>[Rutgers University Libraries]</td>\n",
       "      <td>[njr_ginger_ver02]</td>\n",
       "      <td>https://tile.loc.gov/storage-services/service/...</td>\n",
       "    </tr>\n",
       "    <tr>\n",
       "      <th>556</th>\n",
       "      <td>[The Michigan chronicle]</td>\n",
       "      <td>05-29-1943</td>\n",
       "      <td>7</td>\n",
       "      <td>[sn83045324]</td>\n",
       "      <td>[detroit]</td>\n",
       "      <td>[michigan]</td>\n",
       "      <td>[Central Michigan University, Clark Historical...</td>\n",
       "      <td>[mimtptc_clare_ver03]</td>\n",
       "      <td>https://tile.loc.gov/storage-services/service/...</td>\n",
       "    </tr>\n",
       "    <tr>\n",
       "      <th>557</th>\n",
       "      <td>[The Topeka state journal.]</td>\n",
       "      <td>03-01-1909</td>\n",
       "      <td>4</td>\n",
       "      <td>[sn82016014]</td>\n",
       "      <td>[topeka]</td>\n",
       "      <td>[kansas]</td>\n",
       "      <td>[Kansas State Historical Society; Topeka, KS]</td>\n",
       "      <td>[khi_forbes_ver01]</td>\n",
       "      <td>https://tile.loc.gov/storage-services/service/...</td>\n",
       "    </tr>\n",
       "    <tr>\n",
       "      <th>558</th>\n",
       "      <td>[Minnesotské noviny]</td>\n",
       "      <td>03-20-1913</td>\n",
       "      <td>6</td>\n",
       "      <td>[sn90059424]</td>\n",
       "      <td>[saint paul]</td>\n",
       "      <td>[minnesota]</td>\n",
       "      <td>[Minnesota Historical Society; Saint Paul, MN]</td>\n",
       "      <td>[mnhi_jabbah_ver01]</td>\n",
       "      <td>https://tile.loc.gov/storage-services/service/...</td>\n",
       "    </tr>\n",
       "  </tbody>\n",
       "</table>\n",
       "<p>559 rows × 9 columns</p>\n",
       "</div>"
      ],
      "text/plain": [
       "                         Newspaper Title  Issue Date  Page Number  \\\n",
       "0                     [Deutscher herold]  12-18-1913            7   \n",
       "1    [The daily Nome industrial worker.]  04-18-1916            2   \n",
       "2                [The Washington times.]  09-30-1911           15   \n",
       "3                  [The Princeton union]  02-10-1916            7   \n",
       "4                     [Yerington times.]  07-18-1914            1   \n",
       "..                                   ...         ...          ...   \n",
       "554                    [Omaha daily bee]  08-21-1899            2   \n",
       "555           [Perth Amboy evening news]  11-12-1921            3   \n",
       "556             [The Michigan chronicle]  05-29-1943            7   \n",
       "557          [The Topeka state journal.]  03-01-1909            4   \n",
       "558                [Minnesotské noviny]  03-20-1913            6   \n",
       "\n",
       "             LCCN           City                   State  \\\n",
       "0    [sn98069091]  [sioux falls]          [south dakota]   \n",
       "1    [sn96094905]         [nome]                [alaska]   \n",
       "2    [sn84026749]   [washington]  [district of columbia]   \n",
       "3    [sn83016758]    [princeton]             [minnesota]   \n",
       "4    [sn86076216]    [yerington]                [nevada]   \n",
       "..            ...            ...                     ...   \n",
       "554  [sn99021999]        [omaha]              [nebraska]   \n",
       "555  [sn85035720]  [perth amboy]            [new jersey]   \n",
       "556  [sn83045324]      [detroit]              [michigan]   \n",
       "557  [sn82016014]       [topeka]                [kansas]   \n",
       "558  [sn90059424]   [saint paul]             [minnesota]   \n",
       "\n",
       "                                           Contributor  \\\n",
       "0    [South Dakota State Historical Society – State...   \n",
       "1        [Alaska State Library Historical Collections]   \n",
       "2                [Library of Congress, Washington, DC]   \n",
       "3       [Minnesota Historical Society; Saint Paul, MN]   \n",
       "4    [University of Nevada Las Vegas University Lib...   \n",
       "..                                                 ...   \n",
       "554  [University of Nebraska-Lincoln Libraries, Lin...   \n",
       "555                     [Rutgers University Libraries]   \n",
       "556  [Central Michigan University, Clark Historical...   \n",
       "557      [Kansas State Historical Society; Topeka, KS]   \n",
       "558     [Minnesota Historical Society; Saint Paul, MN]   \n",
       "\n",
       "                      Batch                                           PDF Link  \n",
       "0      [sdhi_bermuda_ver01]  https://tile.loc.gov/storage-services/service/...  \n",
       "1        [ak_dolphin_ver01]  https://tile.loc.gov/storage-services/service/...  \n",
       "2      [dlc_hawaiian_ver01]  https://tile.loc.gov/storage-services/service/...  \n",
       "3         [mnhi_iron_ver01]  https://tile.loc.gov/storage-services/service/...  \n",
       "4    [nvln_arrowhead_ver01]  https://tile.loc.gov/storage-services/service/...  \n",
       "..                      ...                                                ...  \n",
       "554     [nbu_emerson_ver01]  https://tile.loc.gov/storage-services/service/...  \n",
       "555      [njr_ginger_ver02]  https://tile.loc.gov/storage-services/service/...  \n",
       "556   [mimtptc_clare_ver03]  https://tile.loc.gov/storage-services/service/...  \n",
       "557      [khi_forbes_ver01]  https://tile.loc.gov/storage-services/service/...  \n",
       "558     [mnhi_jabbah_ver01]  https://tile.loc.gov/storage-services/service/...  \n",
       "\n",
       "[559 rows x 9 columns]"
      ]
     },
     "execution_count": 18,
     "metadata": {},
     "output_type": "execute_result"
    }
   ],
   "source": [
    "print('\\nSuccess! Please check your saveTo location to see the saved csv file. See Preview Below:\\n')\n",
    "\n",
    "metadata_dataframe = pd.DataFrame(item_metadata_list)\n",
    "metadata_dataframe.to_csv(saveTo + '/' + filename + '.csv')\n",
    "metadata_dataframe"
   ]
  },
  {
   "cell_type": "markdown",
   "metadata": {
    "id": "9hYEdExkEzmn"
   },
   "source": [
    "## Apply Visualizations to your Data Table\n",
    "\n",
    "\n",
    "Now that you have your saved data file, we recommend cleaning the data before applying it onto visualization applications like Tableau, Microsoft Excel, etc.\n",
    "\n",
    "\n",
    "\n",
    "---\n",
    "\n",
    "\n",
    "\n",
    "Below are examples created by the data we gathered from our search.\n",
    "\n",
    "\n",
    "\n"
   ]
  },
  {
   "cell_type": "code",
   "execution_count": 20,
   "metadata": {
    "colab": {
     "base_uri": "https://localhost:8080/",
     "height": 472
    },
    "executionInfo": {
     "elapsed": 336,
     "status": "ok",
     "timestamp": 1712101730808,
     "user": {
      "displayName": "Mike Saelee",
      "userId": "09356275809855701196"
     },
     "user_tz": 240
    },
    "id": "XmZyP5FrNVKr",
    "outputId": "77601c42-f546-4d63-b673-edf1518332d3"
   },
   "outputs": [
    {
     "data": {
      "image/png": "[encoded data removed]",
      "text/plain": [
       "<Figure size 432x288 with 1 Axes>"
      ]
     },
     "metadata": {
      "needs_background": "light"
     },
     "output_type": "display_data"
    }
   ],
  
   "source": [
    "# Create a Visualization to show which State newspapers used the Term \"bohunk\"\n",
    "\n",
    "# Create a bar chart of the state counts\n",
    "plt.figure(figsize=(12,6))\n",
    "df['State'].value_counts().plot.bar()\n",
    "plt.xlabel('Newspaper Publication/State Location')\n",
    "plt.ylabel('Count of Times a Newspaper Issues use the term \"bohunk\"')\n",
    "plt.title('Frequency of \"bohunk\" in Newspaper Articles by Location')\n",
    "plt.show()\n"
   ]
  },
  {
   "cell_type": "code",
   "execution_count": null,
   "metadata": {},
   "outputs": [],
   "source": []
  }
 ],
 "metadata": {
  "colab": {
   "authorship_tag": "ABX9TyMReXejDPrrhoNfybH64BE9",
   "provenance": []
  },
  "kernelspec": {
   "display_name": "Python 3",
   "language": "python",
   "name": "python3"
  },
  "language_info": {
   "codemirror_mode": {
    "name": "ipython",
    "version": 3
   },
   "file_extension": ".py",
   "mimetype": "text/x-python",
   "name": "python",
   "nbconvert_exporter": "python",
   "pygments_lexer": "ipython3",
   "version": "3.8.5"
  }
 },
 "nbformat": 4,
 "nbformat_minor": 1
}
